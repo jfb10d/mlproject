{
 "cells": [
  {
   "cell_type": "code",
   "execution_count": 1,
   "id": "5d915b94-cf30-4073-83b8-a27d4e8de7bc",
   "metadata": {},
   "outputs": [
    {
     "name": "stderr",
     "output_type": "stream",
     "text": [
      "/home/ec2-user/anaconda3/envs/python3/lib/python3.10/site-packages/pandas/core/computation/expressions.py:21: UserWarning: Pandas requires version '2.8.4' or newer of 'numexpr' (version '2.7.3' currently installed).\n",
      "  from pandas.core.computation.check import NUMEXPR_INSTALLED\n"
     ]
    },
    {
     "name": "stdout",
     "output_type": "stream",
     "text": [
      "sagemaker.config INFO - Not applying SDK defaults from location: /etc/xdg/sagemaker/config.yaml\n",
      "sagemaker.config INFO - Not applying SDK defaults from location: /home/ec2-user/.config/sagemaker/config.yaml\n"
     ]
    }
   ],
   "source": [
    "import sagemaker\n",
    "import boto3\n",
    "from sagemaker.amazon.amazon_estimator import get_image_uri\n",
    "from sagemaker.session import s3_input, Session"
   ]
  },
  {
   "cell_type": "code",
   "execution_count": 10,
   "id": "a789ed37-3ec5-42e7-8095-9283b42d3457",
   "metadata": {},
   "outputs": [
    {
     "name": "stdout",
     "output_type": "stream",
     "text": [
      "us-east-2\n"
     ]
    }
   ],
   "source": [
    "# create s3 bucket\n",
    "# 1. The bucket name can be between 3 and 63 characters long,\n",
    "# and can contain only lower-case characters, numbers,\n",
    "# periods, and dashes.\n",
    "# 2. Bucket namespace is shared among users so it needs to be unique\n",
    "bucket_name = 'bank-application-jb'\n",
    "my_region = boto3.session.Session().region_name\n",
    "print(my_region)"
   ]
  },
  {
   "cell_type": "code",
   "execution_count": 11,
   "id": "58cc31a0-f98c-44c5-abb6-72266d73084d",
   "metadata": {},
   "outputs": [
    {
     "name": "stdout",
     "output_type": "stream",
     "text": [
      "S3 buckt bank-application-jb created successfully!\n"
     ]
    }
   ],
   "source": [
    "s3 = boto3.resource('s3')\n",
    "try:\n",
    "    if my_region == 'us-east-2':\n",
    "        s3.create_bucket(Bucket=bucket_name,\n",
    "            CreateBucketConfiguration={\"LocationConstraint\": \"us-east-2\"})\n",
    "        print(f'S3 buckt {bucket_name} created successfully!')\n",
    "except Exception as e:\n",
    "    print('S3 error: ', e)"
   ]
  },
  {
   "cell_type": "code",
   "execution_count": 12,
   "id": "b01a3ff5-073a-4436-b819-69dd7eeb85da",
   "metadata": {},
   "outputs": [
    {
     "name": "stdout",
     "output_type": "stream",
     "text": [
      "s3://bank-application-jb/xgboost-model/output\n"
     ]
    }
   ],
   "source": [
    "# set output path where the trained model will be stored\n",
    "prefix = 'xgboost-model'\n",
    "output_path = f's3://{bucket_name}/{prefix}/output'\n",
    "print(output_path)"
   ]
  },
  {
   "cell_type": "code",
   "execution_count": 17,
   "id": "c7442f05-898b-4599-a147-f8a98dbb3728",
   "metadata": {},
   "outputs": [],
   "source": [
    "# import modules\n",
    "import pandas as pd\n",
    "import numpy as np\n",
    "import urllib\n",
    "import os"
   ]
  },
  {
   "cell_type": "code",
   "execution_count": 14,
   "id": "b7a7a4e7-47f9-4b57-a787-36b784d73f32",
   "metadata": {},
   "outputs": [
    {
     "name": "stdout",
     "output_type": "stream",
     "text": [
      "Success: downloaded bank_clean.csv.\n",
      "Success: Data loaded into dataframe.\n"
     ]
    }
   ],
   "source": [
    "# Download data\n",
    "try:\n",
    "    urllib.request.urlretrieve (\"https://d1.awsstatic.com/tmt/build-train-deploy-machine-learning-model-sagemaker/bank_clean.27f01fbbdf43271788427f3682996ae29ceca05d.csv\", \"bank_clean.csv\")\n",
    "    print('Success: downloaded bank_clean.csv.')\n",
    "except Exception as e:\n",
    "    print('Data load error: ',e)\n",
    "\n",
    "try:\n",
    "    model_data = pd.read_csv('./bank_clean.csv',index_col=0)\n",
    "    print('Success: Data loaded into dataframe.')\n",
    "except Exception as e:\n",
    "    print('Data load error: ',e)"
   ]
  },
  {
   "cell_type": "code",
   "execution_count": 37,
   "id": "4057d2f6-a793-497a-ac9d-b0cbcf98d74b",
   "metadata": {},
   "outputs": [
    {
     "name": "stdout",
     "output_type": "stream",
     "text": [
      "(28831, 61) (12357, 61)\n"
     ]
    },
    {
     "name": "stderr",
     "output_type": "stream",
     "text": [
      "/home/ec2-user/anaconda3/envs/python3/lib/python3.10/site-packages/numpy/core/fromnumeric.py:59: FutureWarning: 'DataFrame.swapaxes' is deprecated and will be removed in a future version. Please use 'DataFrame.transpose' instead.\n",
      "  return bound(*args, **kwds)\n"
     ]
    }
   ],
   "source": [
    "train_data, test_data = np.split(model_data.sample(frac=1, random_state=19), [int(0.7 * len(model_data))])\n",
    "print(train_data.shape, test_data.shape)"
   ]
  },
  {
   "cell_type": "code",
   "execution_count": 21,
   "id": "c27e4985-bf33-4747-b734-7b3e1d53e046",
   "metadata": {},
   "outputs": [],
   "source": [
    "# rearrange train/test data to Sagemaker's requirement\n",
    "train_data = pd.concat([train_data['y_yes'], train_data.drop(columns=['y_no', 'y_yes'])], \n",
    "                                                axis=1)\n",
    "test_data = pd.concat([test_data['y_yes'], test_data.drop(columns=['y_no', 'y_yes'])], \n",
    "                                                axis=1)\n",
    "train_data.to_csv('train_data.csv', index=False, header=False)\n",
    "test_data.to_csv('test_data.csv', index=False, header=False)"
   ]
  },
  {
   "cell_type": "code",
   "execution_count": 22,
   "id": "a7411643-9722-4cee-837a-60f4829ca977",
   "metadata": {},
   "outputs": [],
   "source": [
    "# store files to s3 bucket\n",
    "boto3.Session().resource('s3').Bucket(bucket_name).Object(os.path.join(prefix, 'train/train_data.csv')).upload_file('train_data.csv')\n",
    "boto3.Session().resource('s3').Bucket(bucket_name).Object(os.path.join(prefix, 'test/test_data.csv')).upload_file('test_data.csv')"
   ]
  },
  {
   "cell_type": "code",
   "execution_count": 24,
   "id": "99f2b7b3-f9aa-4e3e-806e-e6db3ef2ccbc",
   "metadata": {},
   "outputs": [],
   "source": [
    "# reference data from s3 bucket\n",
    "s3_input_train = sagemaker.inputs.TrainingInput(s3_data=f's3://{bucket_name}/{prefix}/train', content_type='csv')\n",
    "s3_input_test = sagemaker.inputs.TrainingInput(s3_data=f's3://{bucket_name}/{prefix}/test', content_type='csv')"
   ]
  },
  {
   "cell_type": "markdown",
   "id": "d9520f9c-cee0-4451-b6fe-02eee3a28d2a",
   "metadata": {},
   "source": [
    "Use Sagemaker Builtin Algorithm"
   ]
  },
  {
   "cell_type": "code",
   "execution_count": 26,
   "id": "4dd84de4-4456-4139-9db9-5a82c26e0dd1",
   "metadata": {},
   "outputs": [
    {
     "name": "stderr",
     "output_type": "stream",
     "text": [
      "The method get_image_uri has been renamed in sagemaker>=2.\n",
      "See: https://sagemaker.readthedocs.io/en/stable/v2.html for details.\n"
     ]
    }
   ],
   "source": [
    "# this line automatically looks for the XGBoost image URI and builds an XGBoost container.\n",
    "# specify the repo_version depending on your preference.\n",
    "container = get_image_uri(boto3.Session().region_name,\n",
    "                          'xgboost', \n",
    "                          repo_version='1.7-1')"
   ]
  },
  {
   "cell_type": "code",
   "execution_count": 31,
   "id": "a73fd16b-2b4d-40b2-bd45-dcdd129610e6",
   "metadata": {},
   "outputs": [],
   "source": [
    "# initialize hyperparameters\n",
    "hyperparameters = {\n",
    "        \"max_depth\":\"5\",\n",
    "        \"eta\":\"0.2\",\n",
    "        \"gamma\":\"4\",\n",
    "        \"min_child_weight\":\"6\",\n",
    "        \"subsample\":\"0.7\",\n",
    "        \"objective\":\"binary:logistic\",\n",
    "        \"num_round\":50,\n",
    "        \"early_stopping_rounds\": 7\n",
    "        }"
   ]
  },
  {
   "cell_type": "code",
   "execution_count": 32,
   "id": "8214226e-0d86-4082-b4f0-2939287f71e7",
   "metadata": {},
   "outputs": [],
   "source": [
    "\n",
    "# construct a SageMaker estimator that calls the xgboost-container\n",
    "estimator = sagemaker.estimator.Estimator(image_uri=container, \n",
    "                                          hyperparameters=hyperparameters,\n",
    "                                          role=sagemaker.get_execution_role(),\n",
    "                                          instance_count=1, \n",
    "                                          instance_type='ml.m5.2xlarge', \n",
    "                                          volume_size=5, # 5 GB \n",
    "                                          output_path=output_path,\n",
    "                                          use_spot_instances=True,\n",
    "                                          max_run=300,\n",
    "                                          max_wait=600)"
   ]
  },
  {
   "cell_type": "code",
   "execution_count": 33,
   "id": "4e68303c-7780-4d7a-bd7e-2b676d90bb29",
   "metadata": {},
   "outputs": [
    {
     "name": "stderr",
     "output_type": "stream",
     "text": [
      "INFO:sagemaker:Creating training-job with name: sagemaker-xgboost-2025-07-30-19-07-53-438\n"
     ]
    },
    {
     "name": "stdout",
     "output_type": "stream",
     "text": [
      "2025-07-30 19:07:57 Starting - Starting the training job...\n",
      "2025-07-30 19:08:28 Downloading - Downloading input data...\n",
      "2025-07-30 19:08:44 Downloading - Downloading the training image...\n",
      "2025-07-30 19:09:19 Training - Training image download completed. Training in progress...\u001b[34m[2025-07-30 19:09:40.150 ip-10-0-129-137.us-east-2.compute.internal:7 INFO utils.py:27] RULE_JOB_STOP_SIGNAL_FILENAME: None\u001b[0m\n",
      "\u001b[34mINFO:sagemaker-containers:Imported framework sagemaker_xgboost_container.training\u001b[0m\n",
      "\u001b[34mINFO:sagemaker-containers:Failed to parse hyperparameter objective value binary:logistic to Json.\u001b[0m\n",
      "\u001b[34mReturning the value itself\u001b[0m\n",
      "\u001b[34mINFO:sagemaker-containers:No GPUs detected (normal if no gpus installed)\u001b[0m\n",
      "\u001b[34mINFO:sagemaker_xgboost_container.training:Running XGBoost Sagemaker in algorithm mode\u001b[0m\n",
      "\u001b[34mINFO:root:Determined delimiter of CSV input is ','\u001b[0m\n",
      "\u001b[34mINFO:root:Determined delimiter of CSV input is ','\u001b[0m\n",
      "\u001b[34mINFO:root:Determined delimiter of CSV input is ','\u001b[0m\n",
      "\u001b[34mINFO:root:Determined delimiter of CSV input is ','\u001b[0m\n",
      "\u001b[34mINFO:root:Single node training.\u001b[0m\n",
      "\u001b[34m[19:09:40] 28831x59 matrix with 1701029 entries loaded from /opt/ml/input/data/train?format=csv&label_column=0&delimiter=,\u001b[0m\n",
      "\u001b[34m[19:09:40] 12357x59 matrix with 729063 entries loaded from /opt/ml/input/data/validation?format=csv&label_column=0&delimiter=,\u001b[0m\n",
      "\u001b[34m[2025-07-30 19:09:40.305 ip-10-0-129-137.us-east-2.compute.internal:7 INFO json_config.py:91] Creating hook from json_config at /opt/ml/input/config/debughookconfig.json.\u001b[0m\n",
      "\u001b[34m[2025-07-30 19:09:40.306 ip-10-0-129-137.us-east-2.compute.internal:7 INFO hook.py:201] tensorboard_dir has not been set for the hook. SMDebug will not be exporting tensorboard summaries.\u001b[0m\n",
      "\u001b[34m[2025-07-30 19:09:40.306 ip-10-0-129-137.us-east-2.compute.internal:7 INFO profiler_config_parser.py:102] User has disabled profiler.\u001b[0m\n",
      "\u001b[34m[2025-07-30 19:09:40.307 ip-10-0-129-137.us-east-2.compute.internal:7 INFO hook.py:255] Saving to /opt/ml/output/tensors\u001b[0m\n",
      "\u001b[34m[2025-07-30 19:09:40.307 ip-10-0-129-137.us-east-2.compute.internal:7 INFO state_store.py:77] The checkpoint config file /opt/ml/input/config/checkpointconfig.json does not exist.\u001b[0m\n",
      "\u001b[34mINFO:root:Debug hook created from config\u001b[0m\n",
      "\u001b[34mINFO:root:Train matrix has 28831 rows\u001b[0m\n",
      "\u001b[34mINFO:root:Validation matrix has 12357 rows\u001b[0m\n",
      "\u001b[34m[19:09:40] WARNING: /workspace/src/learner.cc:328: \u001b[0m\n",
      "\u001b[34mParameters: { early_stopping_rounds, num_round } might not be used.\n",
      "  This may not be accurate due to some parameters are only used in language bindings but\n",
      "  passed down to XGBoost core.  Or some parameters are not used but slip through this\n",
      "  verification. Please open an issue if you find above cases.\u001b[0m\n",
      "\u001b[34m[0]#011train-error:0.10090#011validation-error:0.10456\u001b[0m\n",
      "\u001b[34m[2025-07-30 19:09:40.349 ip-10-0-129-137.us-east-2.compute.internal:7 INFO hook.py:423] Monitoring the collections: metrics\u001b[0m\n",
      "\u001b[34m[2025-07-30 19:09:40.353 ip-10-0-129-137.us-east-2.compute.internal:7 INFO hook.py:486] Hook is writing from the hook with pid: 7\u001b[0m\n",
      "\u001b[34m[1]#011train-error:0.10000#011validation-error:0.10391\u001b[0m\n",
      "\u001b[34m[2]#011train-error:0.09968#011validation-error:0.10447\u001b[0m\n",
      "\u001b[34m[3]#011train-error:0.09937#011validation-error:0.10456\u001b[0m\n",
      "\u001b[34m[4]#011train-error:0.09951#011validation-error:0.10245\u001b[0m\n",
      "\u001b[34m[5]#011train-error:0.09958#011validation-error:0.10302\u001b[0m\n",
      "\u001b[34m[6]#011train-error:0.09944#011validation-error:0.10269\u001b[0m\n",
      "\u001b[34m[7]#011train-error:0.09958#011validation-error:0.10302\u001b[0m\n",
      "\u001b[34m[8]#011train-error:0.09923#011validation-error:0.10318\u001b[0m\n",
      "\u001b[34m[9]#011train-error:0.09961#011validation-error:0.10302\u001b[0m\n",
      "\u001b[34m[10]#011train-error:0.09920#011validation-error:0.10294\u001b[0m\n",
      "\u001b[34m[11]#011train-error:0.09927#011validation-error:0.10245\u001b[0m\n",
      "\n",
      "2025-07-30 19:09:57 Uploading - Uploading generated training model\n",
      "2025-07-30 19:09:57 Completed - Training job completed\n",
      "Training seconds: 89\n",
      "Billable seconds: 33\n",
      "Managed Spot Training savings: 62.9%\n"
     ]
    }
   ],
   "source": [
    "estimator.fit({'train': s3_input_train,'validation': s3_input_test})"
   ]
  },
  {
   "cell_type": "markdown",
   "id": "14f09531-4d41-4b89-8570-031734076125",
   "metadata": {},
   "source": [
    "Deploy Model"
   ]
  },
  {
   "cell_type": "code",
   "execution_count": 34,
   "id": "49e791d4-c30e-4929-879d-2b07bf984095",
   "metadata": {},
   "outputs": [
    {
     "name": "stderr",
     "output_type": "stream",
     "text": [
      "INFO:sagemaker:Creating model with name: sagemaker-xgboost-2025-07-30-19-13-11-839\n",
      "INFO:sagemaker:Creating endpoint-config with name sagemaker-xgboost-2025-07-30-19-13-11-839\n",
      "INFO:sagemaker:Creating endpoint with name sagemaker-xgboost-2025-07-30-19-13-11-839\n"
     ]
    },
    {
     "name": "stdout",
     "output_type": "stream",
     "text": [
      "------!"
     ]
    }
   ],
   "source": [
    "xgb_predictor = estimator.deploy(initial_instance_count=1,instance_type='ml.m4.xlarge')    "
   ]
  },
  {
   "cell_type": "markdown",
   "id": "598eca3b-418f-477d-a2d8-ec79bf81eef9",
   "metadata": {},
   "source": [
    "Prediction"
   ]
  },
  {
   "cell_type": "code",
   "execution_count": 38,
   "id": "c7489663-bdcb-4363-accb-e52e3e9d2e70",
   "metadata": {},
   "outputs": [
    {
     "name": "stdout",
     "output_type": "stream",
     "text": [
      "(12357,)\n"
     ]
    }
   ],
   "source": [
    "from sagemaker.serializers import CSVSerializer\n",
    "predict_data = test_data.drop(columns=['y_no', 'y_yes']).values # reusing test data for prediction\n",
    "xgb_predictor.content_type = 'text/csv' # set the data type for an inference\n",
    "xgb_predictor.serializer = CSVSerializer() # set the serializer type\n",
    "predictions = xgb_predictor.predict(predict_data).decode('utf-8') # predict!\n",
    "predictions_array = np.fromstring(predictions[1:], sep=',') # and turn the prediction into an array\n",
    "print(predictions_array.shape)"
   ]
  },
  {
   "cell_type": "code",
   "execution_count": 39,
   "id": "e7328dc9-2c51-4245-895b-640644beaea6",
   "metadata": {},
   "outputs": [
    {
     "data": {
      "text/plain": [
       "array([0.19996458, 0.19996458, 0.23559932, ..., 0.23559932, 0.19996458,\n",
       "       0.19996458])"
      ]
     },
     "execution_count": 39,
     "metadata": {},
     "output_type": "execute_result"
    }
   ],
   "source": [
    "predictions_array"
   ]
  },
  {
   "cell_type": "code",
   "execution_count": 40,
   "id": "81188f42-fe87-448e-bbd0-c7dbd1b68472",
   "metadata": {},
   "outputs": [
    {
     "name": "stdout",
     "output_type": "stream",
     "text": [
      "\n",
      "Overall Classification Rate: 89.8%\n",
      "\n",
      "Predicted      No Purchase    Purchase\n",
      "Observed\n",
      "No Purchase    91% (10829)    33% (131)\n",
      "Purchase        9% (1135)     67% (262) \n",
      "\n"
     ]
    }
   ],
   "source": [
    "cm = pd.crosstab(index=test_data['y_yes'], columns=np.round(predictions_array), rownames=['Observed'], colnames=['Predicted'])\n",
    "tn = cm.iloc[0,0]; fn = cm.iloc[1,0]; tp = cm.iloc[1,1]; fp = cm.iloc[0,1]; p = (tp+tn)/(tp+tn+fp+fn)*100\n",
    "print(\"\\n{0:<20}{1:<4.1f}%\\n\".format(\"Overall Classification Rate: \", p))\n",
    "print(\"{0:<15}{1:<15}{2:>8}\".format(\"Predicted\", \"No Purchase\", \"Purchase\"))\n",
    "print(\"Observed\")\n",
    "print(\"{0:<15}{1:<2.0f}% ({2:<}){3:>6.0f}% ({4:<})\".format(\"No Purchase\", tn/(tn+fn)*100,tn, fp/(tp+fp)*100, fp))\n",
    "print(\"{0:<16}{1:<1.0f}% ({2:<}){3:>7.0f}% ({4:<}) \\n\".format(\"Purchase\", fn/(tn+fn)*100,fn, tp/(tp+fp)*100, tp))"
   ]
  },
  {
   "cell_type": "markdown",
   "id": "4708a9da-36bf-43b8-bef0-909e5dd3e18e",
   "metadata": {},
   "source": [
    "Endpoint deletion"
   ]
  },
  {
   "cell_type": "code",
   "execution_count": 41,
   "id": "571f4d16-46b0-474c-9f17-fe6a37c64cdb",
   "metadata": {},
   "outputs": [
    {
     "name": "stderr",
     "output_type": "stream",
     "text": [
      "WARNING:sagemaker.deprecations:The endpoint attribute has been renamed in sagemaker>=2.\n",
      "See: https://sagemaker.readthedocs.io/en/stable/v2.html for details.\n",
      "INFO:sagemaker:Deleting endpoint with name: sagemaker-xgboost-2025-07-30-19-13-11-839\n"
     ]
    },
    {
     "data": {
      "text/plain": [
       "[{'ResponseMetadata': {'RequestId': 'DVWMDFA4JB0JYQHX',\n",
       "   'HostId': 'MiThPWlzIYQDiBqcyfmL0Rc67YTWPhb+FJ5e6EakLGhqEXmrioQTj1c6H4bATfA4l9N8F8Z3g+Di2IsWUqmQfA==',\n",
       "   'HTTPStatusCode': 200,\n",
       "   'HTTPHeaders': {'x-amz-id-2': 'MiThPWlzIYQDiBqcyfmL0Rc67YTWPhb+FJ5e6EakLGhqEXmrioQTj1c6H4bATfA4l9N8F8Z3g+Di2IsWUqmQfA==',\n",
       "    'x-amz-request-id': 'DVWMDFA4JB0JYQHX',\n",
       "    'date': 'Wed, 30 Jul 2025 19:26:44 GMT',\n",
       "    'connection': 'close',\n",
       "    'content-type': 'application/xml',\n",
       "    'transfer-encoding': 'chunked',\n",
       "    'server': 'AmazonS3'},\n",
       "   'RetryAttempts': 0},\n",
       "  'Deleted': [{'Key': 'xgboost-model/output/sagemaker-xgboost-2025-07-30-19-07-53-438/debug-output/index/000000000/000000000000_worker_0.json'},\n",
       "   {'Key': 'xgboost-model/output/sagemaker-xgboost-2025-07-30-19-07-53-438/debug-output/index/000000000/000000000010_worker_0.json'},\n",
       "   {'Key': 'xgboost-model/output/sagemaker-xgboost-2025-07-30-19-07-53-438/profiler-output/framework/training_job_end.ts'},\n",
       "   {'Key': 'xgboost-model/output/sagemaker-xgboost-2025-07-30-19-07-53-438/profiler-output/system/incremental/2025073019/1753902540.algo-1.json'},\n",
       "   {'Key': 'xgboost-model/output/sagemaker-xgboost-2025-07-30-19-07-53-438/profiler-output/system/incremental/2025073019/1753902480.algo-1.json'},\n",
       "   {'Key': 'xgboost-model/output/sagemaker-xgboost-2025-07-30-19-07-53-438/debug-output/claim.smd'},\n",
       "   {'Key': 'xgboost-model/output/sagemaker-xgboost-2025-07-30-19-07-53-438/debug-output/collections/000000000/worker_0_collections.json'},\n",
       "   {'Key': 'xgboost-model/output/sagemaker-xgboost-2025-07-30-19-07-53-438/debug-output/events/000000000000/000000000000_worker_0.tfevents'},\n",
       "   {'Key': 'xgboost-model/output/sagemaker-xgboost-2025-07-30-19-07-53-438/debug-output/events/000000000010/000000000010_worker_0.tfevents'},\n",
       "   {'Key': 'xgboost-model/test/test_data.csv'},\n",
       "   {'Key': 'xgboost-model/train/train_data.csv'},\n",
       "   {'Key': 'xgboost-model/output/sagemaker-xgboost-2025-07-30-19-07-53-438/debug-output/training_job_end.ts'},\n",
       "   {'Key': 'xgboost-model/output/sagemaker-xgboost-2025-07-30-19-07-53-438/profiler-output/system/training_job_end.ts'},\n",
       "   {'Key': 'xgboost-model/output/sagemaker-xgboost-2025-07-30-19-07-53-438/output/model.tar.gz'}]}]"
      ]
     },
     "execution_count": 41,
     "metadata": {},
     "output_type": "execute_result"
    }
   ],
   "source": [
    "sagemaker.Session().delete_endpoint(xgb_predictor.endpoint)\n",
    "bucket_to_delete = boto3.resource('s3').Bucket(bucket_name)\n",
    "bucket_to_delete.objects.all().delete()"
   ]
  },
  {
   "cell_type": "code",
   "execution_count": null,
   "id": "544d7301-35b1-4f25-8245-f1383b008de6",
   "metadata": {},
   "outputs": [],
   "source": []
  }
 ],
 "metadata": {
  "kernelspec": {
   "display_name": "conda_python3",
   "language": "python",
   "name": "conda_python3"
  },
  "language_info": {
   "codemirror_mode": {
    "name": "ipython",
    "version": 3
   },
   "file_extension": ".py",
   "mimetype": "text/x-python",
   "name": "python",
   "nbconvert_exporter": "python",
   "pygments_lexer": "ipython3",
   "version": "3.10.18"
  }
 },
 "nbformat": 4,
 "nbformat_minor": 5
}
