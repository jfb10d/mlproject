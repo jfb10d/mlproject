{
 "cells": [
  {
   "cell_type": "markdown",
   "metadata": {},
   "source": [
    "<p style=\"text-align:center\">\n",
    "    <a href=\"https://skills.network\" target=\"_blank\">\n",
    "    <img src=\"https://cf-courses-data.s3.us.cloud-object-storage.appdomain.cloud/assets/logos/SN_web_lightmode.png\" width=\"200\" alt=\"Skills Network Logo\">\n",
    "    </a>\n",
    "</p>\n"
   ]
  },
  {
   "cell_type": "markdown",
   "metadata": {},
   "source": [
    "## **Advanced Machine Learning Analysis for Marketing**\n"
   ]
  },
  {
   "cell_type": "markdown",
   "metadata": {},
   "source": [
    "Estaimted time needed: **2** hours\n"
   ]
  },
  {
   "cell_type": "markdown",
   "metadata": {},
   "source": [
    "## Abstract\n"
   ]
  },
  {
   "cell_type": "markdown",
   "metadata": {},
   "source": [
    "This lab is dedicated to learnig the Advanced Machine Learning methods for analysis of Retail based on 3 years sales data for 45 stores located in different regions - each store contains a number of departments. \n"
   ]
  },
  {
   "cell_type": "markdown",
   "metadata": {},
   "source": [
    "## Introduction\n"
   ]
  },
  {
   "cell_type": "markdown",
   "metadata": {},
   "source": [
    "One challenge of modeling retail data is the need to make decisions based on limited data. During the holidays and select major events there is an increase in sales, and so does the chance to see how strategic decisions impacted the bottom line. Discounts and promotions can also affect sales. The goal of this lab is to predict which departments will be affected and to what extent.\n",
    "\n",
    "Therefore, the main problems to be solved are the use of advanced methods of machine learning to:\n",
    "\n",
    "1. predict the department-wide sales for each store;\n",
    "2. model the effects of markdowns on holiday weeks;\n",
    "3. provide marketing recommended actions based on the insights drawn, with prioritization placed on largest business impact.\n"
   ]
  },
  {
   "cell_type": "markdown",
   "metadata": {},
   "source": [
    "## Materials and methods\n"
   ]
  },
  {
   "cell_type": "markdown",
   "metadata": {},
   "source": [
    "In this lab, we will learn how to analyze and forecast store sales.\n",
    "We will study how to use autocorrelation analysis to find time lag delays and how to transform a DataSet to take it into account.\n",
    "We will study how use set of different ML models to predict time series on the example of the department week sales.\n",
    "\n",
    "On the basis of neural network, we will analyse the influence of markdowns in the store on sales both during the holiday and regular weeks. Aftrer that the sales strategy for a specific department will be proposed.\n",
    "\n",
    "This lab consist of the following steps:\n",
    "* Import Libraries/Define Auxiliary Functions\n",
    "* Download and pre-preparation data \n",
    "* Predict the department-wide sales \n",
    "    - Previus Data Analysis\n",
    "    - DataSet creation\n",
    "    - Data normalization\n",
    "    - Linear Regression\n",
    "    - Back Propagation Neural Network\n",
    "    - Long Short-Term Memory - LSTM\n",
    "* Model the effects of markdowns on holiday weeks\n",
    "    - Preliminary analysis\n",
    "    - Linear Regression\n",
    "    - Back Propagation Neural Network\n",
    "    - Sensitivity analisys\n",
    "* Recommendation for department\n",
    "* Final Task\n",
    "    - SubTask 1. Sensitifity function\n",
    "    - SubTask 2. Sensitivity of Department\n",
    "    - SubTask 3. Sensitivity of 10 departments\n"
   ]
  },
  {
   "cell_type": "markdown",
   "metadata": {},
   "source": [
    "The statistical data was obtained from the https://www.kaggle.com/manjeetsingh/retaildataset. This DataSet released under CC BY-IGO license that allow copy, modify, distribute and perform the work, even for commercial purposes, all without asking permission. \n"
   ]
  },
  {
   "cell_type": "markdown",
   "metadata": {},
   "source": [
    "## Prerequisites\n",
    "* [Python](https://www.python.org) - advanced level\n",
    "* [Pandas](https://pandas.pydata.org) - basic level \n",
    "* [SeaBorn](https://seaborn.pydata.org) - basic level\n",
    "* [Scikit-learn](https://scikit-learn.org/stable/) - intermediate level\n",
    "* [keras](https://keras.io) - intermediate level\n"
   ]
  },
  {
   "cell_type": "markdown",
   "metadata": {},
   "source": [
    "## Objectives\n"
   ]
  },
  {
   "cell_type": "markdown",
   "metadata": {},
   "source": [
    "After completing this lab, you will be able to:\n"
   ]
  },
  {
   "cell_type": "markdown",
   "metadata": {},
   "source": [
    "* Download a DataSet from *.csv files\n",
    "* Merge DataSets\n",
    "* Make autocorrelation analisys\n",
    "* Transform DataSet accordingly Lag shift\n",
    "* Apply basic and advanced methods of machine learning such a: Linear regression, Back-Propagation and Reccurent Neural Networks\n",
    "* Calculate accuracy of models\n",
    "* Make forecasting \n",
    "* Calculate and analisys sensitivity of models\n"
   ]
  },
  {
   "cell_type": "markdown",
   "metadata": {},
   "source": [
    "## Import Libraries/Define Auxiliary Functions\n"
   ]
  },
  {
   "cell_type": "markdown",
   "metadata": {},
   "source": [
    "**Running outside Skills Network Labs.** This notebook was tested within Skills Network Labs. Running in another environment should work as well, but is not guaranteed and may require different setup routine.\n"
   ]
  },
  {
   "cell_type": "markdown",
   "metadata": {},
   "source": [
    "Libraries such as Pandas, MatplotLib, SeaBorn, Scikit-Learn, Keras and Tabulate should be installed.\n"
   ]
  },
  {
   "cell_type": "code",
   "execution_count": 1,
   "metadata": {},
   "outputs": [
    {
     "name": "stdout",
     "output_type": "stream",
     "text": [
      "Collecting package metadata (current_repodata.json): | WARNING conda.models.version:get_matcher(546): Using .* with relational operator is superfluous and deprecated and will be removed in a future version of conda. Your spec was 1.7.1.*, but conda is ignoring the .* and treating it as 1.7.1\n",
      "done\n",
      "Solving environment: done\n",
      "\n",
      "\n",
      "==> WARNING: A newer version of conda exists. <==\n",
      "  current version: 23.3.1\n",
      "  latest version: 25.5.1\n",
      "\n",
      "Please update conda by running\n",
      "\n",
      "    $ conda update -n base -c conda-forge conda\n",
      "\n",
      "Or to minimize the number of packages updated during conda update use\n",
      "\n",
      "     conda install conda=25.5.1\n",
      "\n",
      "\n",
      "\n",
      "# All requested packages already installed.\n",
      "\n",
      "\n",
      "Note: you may need to restart the kernel to use updated packages.\n"
     ]
    }
   ],
   "source": [
    "conda install -c conda-forge numpy"
   ]
  },
  {
   "cell_type": "code",
   "execution_count": 2,
   "metadata": {},
   "outputs": [
    {
     "name": "stdout",
     "output_type": "stream",
     "text": [
      "Collecting package metadata (current_repodata.json): - WARNING conda.models.version:get_matcher(546): Using .* with relational operator is superfluous and deprecated and will be removed in a future version of conda. Your spec was 1.7.1.*, but conda is ignoring the .* and treating it as 1.7.1\n",
      "done\n",
      "Solving environment: done\n",
      "\n",
      "\n",
      "==> WARNING: A newer version of conda exists. <==\n",
      "  current version: 23.3.1\n",
      "  latest version: 25.5.1\n",
      "\n",
      "Please update conda by running\n",
      "\n",
      "    $ conda update -n base -c conda-forge conda\n",
      "\n",
      "Or to minimize the number of packages updated during conda update use\n",
      "\n",
      "     conda install conda=25.5.1\n",
      "\n",
      "\n",
      "\n",
      "# All requested packages already installed.\n",
      "\n",
      "\n",
      "Note: you may need to restart the kernel to use updated packages.\n"
     ]
    }
   ],
   "source": [
    "conda install -c conda-forge pandas"
   ]
  },
  {
   "cell_type": "code",
   "execution_count": null,
   "metadata": {},
   "outputs": [
    {
     "name": "stdout",
     "output_type": "stream",
     "text": [
      "Collecting package metadata (current_repodata.json): / WARNING conda.models.version:get_matcher(546): Using .* with relational operator is superfluous and deprecated and will be removed in a future version of conda. Your spec was 1.7.1.*, but conda is ignoring the .* and treating it as 1.7.1\n",
      "done\n",
      "Solving environment: / "
     ]
    }
   ],
   "source": [
    "conda install -c conda-forge matplotlib"
   ]
  },
  {
   "cell_type": "code",
   "execution_count": null,
   "metadata": {},
   "outputs": [],
   "source": [
    "conda install -c conda-forge seaborn "
   ]
  },
  {
   "cell_type": "code",
   "execution_count": null,
   "metadata": {},
   "outputs": [],
   "source": [
    "conda install -c conda-forge scikit-learn "
   ]
  },
  {
   "cell_type": "code",
   "execution_count": null,
   "metadata": {},
   "outputs": [],
   "source": [
    "conda install -c conda-forge tabulate"
   ]
  },
  {
   "cell_type": "code",
   "execution_count": null,
   "metadata": {},
   "outputs": [],
   "source": [
    "conda install -c conda-forge keras"
   ]
  },
  {
   "cell_type": "code",
   "execution_count": null,
   "metadata": {},
   "outputs": [],
   "source": [
    "conda install -c anaconda statsmodels"
   ]
  },
  {
   "cell_type": "markdown",
   "metadata": {},
   "source": [
    "## Download data\n"
   ]
  },
  {
   "cell_type": "markdown",
   "metadata": {},
   "source": [
    "Some libraries should be imported before you can begin.\n"
   ]
  },
  {
   "cell_type": "code",
   "execution_count": null,
   "metadata": {},
   "outputs": [],
   "source": [
    "import pandas as pd\n",
    "import matplotlib.pyplot as plt\n",
    "import seaborn as sns\n",
    "import numpy as np\n",
    "\n",
    "from statsmodels.graphics.tsaplots import acf, pacf, plot_acf, plot_pacf\n",
    "from sklearn.preprocessing import MinMaxScaler\n",
    "from sklearn.linear_model import LinearRegression\n",
    "from sklearn import metrics\n",
    "\n",
    "from keras.wrappers.scikit_learn import KerasRegressor\n",
    "from keras.models import Sequential\n",
    "from keras.layers import Dense\n",
    "from keras.layers import Dropout\n",
    "from keras.callbacks import EarlyStopping\n",
    "from keras.layers import LSTM"
   ]
  },
  {
   "cell_type": "markdown",
   "metadata": {},
   "source": [
    "Let's download retail data that related to the store, department, and regional activity for the given dates\n"
   ]
  },
  {
   "cell_type": "code",
   "execution_count": null,
   "metadata": {},
   "outputs": [],
   "source": [
    "df1 = pd.read_csv('https://cf-courses-data.s3.us.cloud-object-storage.appdomain.cloud/IBM-GPXX0JKFEN/Features%20data%20set.csv', delimiter=',')\n",
    "df1.dataframeName = 'Features data set.csv'\n",
    "df1"
   ]
  },
  {
   "cell_type": "markdown",
   "metadata": {},
   "source": [
    "Let's study this DataSet. As you can see DataSet consist 8 190 rows and 12 columns.\n",
    "\n",
    "- Store - the store number\n",
    "- Date - the week\n",
    "- Temperature - average temperature in the region\n",
    "- Fuel_Price - cost of fuel in the region\n",
    "- MarkDown1-5 - anonymized data related to promotional markdowns. MarkDown data is only available after Nov 2011, and is not available for all stores all the time. Any missing value is marked with an NA\n",
    "- CPI - the consumer price index\n",
    "- Unemployment - the unemployment rate\n",
    "- IsHoliday - whether the week is a special holiday week\n"
   ]
  },
  {
   "cell_type": "markdown",
   "metadata": {},
   "source": [
    "Next we must download historical sales data, which covers to 2010-02-05 to 2012-11-01.\n"
   ]
  },
  {
   "cell_type": "code",
   "execution_count": null,
   "metadata": {},
   "outputs": [],
   "source": [
    "df2 = pd.read_csv('https://cf-courses-data.s3.us.cloud-object-storage.appdomain.cloud/IBM-GPXX0JKFEN/sales%20data-set.csv', delimiter=',')\n",
    "df2.dataframeName = 'Sales data set.csv'\n",
    "df2"
   ]
  },
  {
   "cell_type": "markdown",
   "metadata": {},
   "source": [
    "As you can see, this DataSet consist 421 579 rows and 5 columns.\n",
    "\n",
    "Within this DataSet you will find the following information:\n",
    "\n",
    "- Store - the store number\n",
    "- Dept - the department number\n",
    "- Date - the week\n",
    "- Weekly_Sales -  sales for the given department in the given store\n",
    "- IsHoliday - whether the week is a special holiday week\n"
   ]
  },
  {
   "cell_type": "markdown",
   "metadata": {},
   "source": [
    "The last DataSet consists anonymized information about the 45 stores, indicating the type and size of store\n"
   ]
  },
  {
   "cell_type": "code",
   "execution_count": null,
   "metadata": {},
   "outputs": [],
   "source": [
    "df3 = pd.read_csv('https://cf-courses-data.s3.us.cloud-object-storage.appdomain.cloud/IBM-GPXX0JKFEN/stores%20data-set.csv', delimiter=',')\n",
    "df3.dataframeName = 'Stores data set.csv'\n",
    "df3"
   ]
  },
  {
   "cell_type": "markdown",
   "metadata": {},
   "source": [
    "## Data pre-preparation\n"
   ]
  },
  {
   "cell_type": "markdown",
   "metadata": {},
   "source": [
    "First of all, we need to merge these three DataSets into one using by **[pandas.DataFrame.merge()](https://pandas.pydata.org/docs/reference/api/pandas.DataFrame.merge.html)**\n"
   ]
  },
  {
   "cell_type": "code",
   "execution_count": null,
   "metadata": {},
   "outputs": [],
   "source": [
    "df = df1.merge(df3, on = 'Store')\n",
    "df = df2.merge(df, on = ['Store','Date', 'IsHoliday'])\n",
    "df"
   ]
  },
  {
   "cell_type": "markdown",
   "metadata": {},
   "source": [
    "Let's study DataSet. As you can see DataSet consist 421 570 rows × 16 columns. As you can see DataSet consist information of different types. We should be sure that python recognized data types in right way. \n"
   ]
  },
  {
   "cell_type": "code",
   "execution_count": null,
   "metadata": {},
   "outputs": [],
   "source": [
    "df.info()"
   ]
  },
  {
   "cell_type": "markdown",
   "metadata": {},
   "source": [
    "First of all let's delete rows that consist emty values:\n"
   ]
  },
  {
   "cell_type": "code",
   "execution_count": null,
   "metadata": {},
   "outputs": [],
   "source": [
    "df=df.fillna(0)"
   ]
  },
  {
   "cell_type": "markdown",
   "metadata": {},
   "source": [
    "As you can see, we should transform Date columns into DateTime format. Also type of Store must be categorical:\n"
   ]
  },
  {
   "cell_type": "code",
   "execution_count": null,
   "metadata": {},
   "outputs": [],
   "source": [
    "df['Date'] = pd.to_datetime(df['Date'])\n",
    "df['Type'] = df['Type'].astype('category')\n",
    "df.info()"
   ]
  },
  {
   "cell_type": "markdown",
   "metadata": {},
   "source": [
    "**Since stores and their departments belong to different categories, have different sizes, different quantities and assortments of goods and are located in different parts of the city, it will be a mistake to fit the neural network on all records. With the same input data departments located in different parts of the city will  have different sales. In other words, the information for each department has its own variance. Therefore,  for the analysis, it is necessary to identify departments and make an analysis separately for each of them.**\n"
   ]
  },
  {
   "cell_type": "markdown",
   "metadata": {},
   "source": [
    "Let's group Rows by Store, Department and Date. \n"
   ]
  },
  {
   "cell_type": "code",
   "execution_count": null,
   "metadata": {},
   "outputs": [],
   "source": [
    "df.groupby(['Store', 'Dept','Date']).sum()"
   ]
  },
  {
   "cell_type": "markdown",
   "metadata": {},
   "source": [
    "Let's calculate number of rows for each department:\n"
   ]
  },
  {
   "cell_type": "code",
   "execution_count": null,
   "metadata": {},
   "outputs": [],
   "source": [
    "df[['Store', 'Dept']].value_counts()"
   ]
  },
  {
   "cell_type": "markdown",
   "metadata": {},
   "source": [
    "As you can see most of departments have 143 rows. Let's make analysis for one of them.\n"
   ]
  },
  {
   "cell_type": "code",
   "execution_count": null,
   "metadata": {},
   "outputs": [],
   "source": [
    "St = 24\n",
    "Dt = 50"
   ]
  },
  {
   "cell_type": "markdown",
   "metadata": {},
   "source": [
    "Let's create DataSet for Store: St and Department: Dt\n"
   ]
  },
  {
   "cell_type": "code",
   "execution_count": null,
   "metadata": {},
   "outputs": [],
   "source": [
    "df_d = df[(df['Store']==St) & (df['Dept']==Dt)]\n",
    "df_d"
   ]
  },
  {
   "cell_type": "markdown",
   "metadata": {},
   "source": [
    "## Predict the department-wide sales \n"
   ]
  },
  {
   "cell_type": "markdown",
   "metadata": {},
   "source": [
    "### Previous Data Analysis\n"
   ]
  },
  {
   "cell_type": "markdown",
   "metadata": {},
   "source": [
    "Let's chose field 'Weekly_Sales' for forecasting. First of all we should visualize these data\n"
   ]
  },
  {
   "cell_type": "code",
   "execution_count": null,
   "metadata": {},
   "outputs": [],
   "source": [
    "plt.figure\n",
    "_ = plt.subplots(figsize = (20,10))\n",
    "_ = plt.xticks(rotation = 60)\n",
    "_ = sns.lineplot(data = df_d, x = 'Date',y = 'Weekly_Sales', )\n",
    "_ = plt.title('LinePlot showing the change in Weekly Sales', fontsize=20)\n",
    "plt.show()"
   ]
  },
  {
   "cell_type": "markdown",
   "metadata": {},
   "source": [
    "Let's visualize how sales change during the holidays\n"
   ]
  },
  {
   "cell_type": "code",
   "execution_count": null,
   "metadata": {},
   "outputs": [],
   "source": [
    "plt.figure\n",
    "_ = plt.subplots(figsize = (20,10))\n",
    "_ = plt.xticks(rotation = 60)\n",
    "_ = sns.lineplot(data = df_d, x = 'Date',y = 'Weekly_Sales', hue = 'IsHoliday',style = 'IsHoliday', markers = True, ci = 68)\n",
    "_ = plt.title('LinePlot showing the change in Weekly Sales', fontsize=20)\n",
    "plt.show()"
   ]
  },
  {
   "cell_type": "markdown",
   "metadata": {},
   "source": [
    "As you can see from the plot, there is no increase in sales on holidays. \n",
    "\n",
    "For forecast sales, let's create a separate time series that contains only weekly sales data\n"
   ]
  },
  {
   "cell_type": "code",
   "execution_count": null,
   "metadata": {},
   "outputs": [],
   "source": [
    "ts = df_d[['Date', 'Weekly_Sales']]\n",
    "ts = ts.set_index('Date')\n",
    "ts = ts['Weekly_Sales']\n",
    "ts"
   ]
  },
  {
   "cell_type": "markdown",
   "metadata": {},
   "source": [
    "Whan we would like to make forecast of time series we can make only assumption that the data for today depend on the values of previous weeks. To check for dependencies, it is necessary to perform a correlation analysis between them. This requires:\n",
    "1. duplicate the time series of data and move it vertically down for a certain number of days (lag)\n",
    "2. delete the missing data at the beginning and end (they are formed by vertical shift (**[pandas.DataFrame.shift()](https://pandas.pydata.org/pandas-docs/stable/reference/api/pandas.DataFrame.shift.html)**)\n",
    "3. calculate the correlation coefficient between the obtained series\n",
    "\n",
    "Since this operation must be performed for different values of the lag, it is convenient to create a separate function or use **[statsmodels.graphics.tsaplots.plot_acf()](https://www.statsmodels.org/dev/generated/statsmodels.graphics.tsaplots.plot_acf.html)**. \n",
    "\n",
    "Or better we can use [Partial autocorrelation function](https://en.wikipedia.org/wiki/Partial_autocorrelation_function): **[statsmodels.graphics.tsaplots.plot_pacf()](https://www.statsmodels.org/stable/generated/statsmodels.graphics.tsaplots.plot_pacf.html)**\n",
    "\n",
    "This analysis will allow us to determine the lag delay. That is, how many weeks ago sales affected sales today\n"
   ]
  },
  {
   "cell_type": "code",
   "execution_count": null,
   "metadata": {},
   "outputs": [],
   "source": [
    "print(pd.Series(acf(ts,nlags=10), name = \"Correlation Coeff\"))\n",
    "print(pd.Series(pacf(ts,nlags=10), name = \"Partial Correlation Coeff\"))\n",
    "\n",
    "\n",
    "fig, axes = plt.subplots(1,2, figsize=(20,5))\n",
    "_ = plot_acf(ts, lags=30, ax=axes[0])\n",
    "_ = plot_pacf(ts, lags=30, ax=axes[1])"
   ]
  },
  {
   "cell_type": "markdown",
   "metadata": {},
   "source": [
    "As can be seen from the charts, we have to use sales for the previous 4 weeks as input parameters.\n"
   ]
  },
  {
   "cell_type": "markdown",
   "metadata": {},
   "source": [
    "### DataSet creation\n"
   ]
  },
  {
   "cell_type": "markdown",
   "metadata": {},
   "source": [
    "Any forecast model can be shown as black-box of input - target. The target must be the data of the original time series, and the input values are given for the previous weeks.\n"
   ]
  },
  {
   "cell_type": "markdown",
   "metadata": {},
   "source": [
    "<center>\n",
    "    <img src=\"https://cf-courses-data.s3.us.cloud-object-storage.appdomain.cloud/IBM-GPXX0JKFEN/TS.png\" width=\"1000\" alt=\"cognitiveclass.ai logo\">\n",
    "</center>\n"
   ]
  },
  {
   "cell_type": "markdown",
   "metadata": {},
   "source": [
    "\n",
    "To automate this process, let's create a universal time series transformation function to a dataset structure.\n"
   ]
  },
  {
   "cell_type": "code",
   "execution_count": null,
   "metadata": {},
   "outputs": [],
   "source": [
    "def series_to_supervised(in_data, tar_data, n_in=1, dropnan=True, target_dep=False):\n",
    "    \"\"\"\n",
    "    Transformation into a training sample taking into account the lag\n",
    "     : param in_data: Input fields\n",
    "     : param tar_data: Output field (single)\n",
    "     : param n_in: Lag shift\n",
    "     : param dropnan: Do destroy empty lines\n",
    "     : param target_dep: Whether to take into account the lag of the input field If taken into account, the input will start with lag 1\n",
    "     : return: Training sample. The last field is the source\n",
    "    \"\"\"\n",
    "\n",
    "    n_vars = in_data.shape[1]\n",
    "    cols, names = list(), list()\n",
    "\n",
    "    if target_dep:\n",
    "        i_start = 1\n",
    "    else:\n",
    "        i_start = 0\n",
    "    for i in range(i_start, n_in + 1):\n",
    "        cols.append(in_data.shift(i))\n",
    "        names += [('%s(t-%d)' % (in_data.columns[j], i)) for j in range(n_vars)]\n",
    "\n",
    "    if target_dep:\n",
    "        for i in range(n_in, -1, -1):\n",
    "            cols.append(tar_data.shift(i))\n",
    "            names += [('%s(t-%d)' % (tar_data.name, i))]\n",
    "    else:\n",
    "        # put it all together\n",
    "        cols.append(tar_data)\n",
    "        names.append(tar_data.name)\n",
    "    agg = pd.concat(cols, axis=1)\n",
    "    agg.columns = names\n",
    "\n",
    "    # drop rows with NaN values\n",
    "    if dropnan:\n",
    "        agg.dropna(inplace=True)\n",
    "\n",
    "    return agg"
   ]
  },
  {
   "cell_type": "markdown",
   "metadata": {},
   "source": [
    "As mentioned above, the input and output fields when predicting time series are the same, only shifted by the lag.\n",
    "Let's create dataset:\n"
   ]
  },
  {
   "cell_type": "code",
   "execution_count": null,
   "metadata": {},
   "outputs": [],
   "source": [
    "dataset = series_to_supervised(pd.DataFrame(ts), ts, 4)\n",
    "dataset"
   ]
  },
  {
   "cell_type": "markdown",
   "metadata": {},
   "source": [
    "As you can see, the first and last columns contain the same target data. \n",
    "Now we should create input (**X**) and output (**Y**) Datasets for forecasting models.\n"
   ]
  },
  {
   "cell_type": "code",
   "execution_count": null,
   "metadata": {},
   "outputs": [],
   "source": [
    "col = dataset.columns\n",
    "X, Y = dataset[col[1:-1]], dataset[col[-1]]\n",
    "print(\"Input: \", X.columns)\n",
    "print(\"Target:\", Y.name)"
   ]
  },
  {
   "cell_type": "markdown",
   "metadata": {},
   "source": [
    "### Data normalization\n"
   ]
  },
  {
   "cell_type": "markdown",
   "metadata": {},
   "source": [
    "After that we must normalize all data. To do this the [**sklearn.preprocessing.MinMaxScaler**](https://scikit-learn.org/stable/modules/generated/sklearn.preprocessing.MinMaxScaler.html) module should be used. \n",
    "It alows easy normalize [**fit_transform()**](https://scikit-learn.org/stable/modules/generated/sklearn.preprocessing.MinMaxScaler.html#sklearn.preprocessing.MinMaxScaler.fit_transform) and convert back all data: \n"
   ]
  },
  {
   "cell_type": "code",
   "execution_count": null,
   "metadata": {},
   "outputs": [],
   "source": [
    "scaler_x = MinMaxScaler(feature_range=(0, 1))\n",
    "scaler_y = MinMaxScaler(feature_range=(0, 1))\n",
    "\n",
    "scaled_x = scaler_x.fit_transform(X)\n",
    "scaled_y = scaler_y.fit_transform(Y.values.reshape(-1, 1))"
   ]
  },
  {
   "cell_type": "markdown",
   "metadata": {},
   "source": [
    "After that we will form training and test DataSets using by [**sklearn.model_selection.train_test_split()**](https://scikit-learn.org/stable/modules/generated/sklearn.model_selection.train_test_split.html) in proportions 70/30. Without shuffling. It means, that test samples are lockated in the end of **X** and **Y** DataSets.\n",
    "\n",
    "As the result we will have: \n",
    "\n",
    "Input normalized DataSets: **X_train, X_test**\n",
    "\n",
    "Target normalized DataSets: **y_train, y_test**\n"
   ]
  },
  {
   "cell_type": "code",
   "execution_count": null,
   "metadata": {},
   "outputs": [],
   "source": [
    "from sklearn.model_selection import train_test_split\n",
    "x_train, x_test, y_train, y_test = train_test_split(scaled_x, scaled_y, test_size=0.3, shuffle=False)"
   ]
  },
  {
   "cell_type": "markdown",
   "metadata": {},
   "source": [
    "All data are normalized. But for compare results we must to have real scale data of train and test DataSets:\n"
   ]
  },
  {
   "cell_type": "code",
   "execution_count": null,
   "metadata": {},
   "outputs": [],
   "source": [
    "res_train = scaler_y.inverse_transform(y_train).flatten()\n",
    "res_test = scaler_y.inverse_transform(y_test).flatten()"
   ]
  },
  {
   "cell_type": "markdown",
   "metadata": {},
   "source": [
    "Target real scale DataSets: **res_train, res_test**\n"
   ]
  },
  {
   "cell_type": "markdown",
   "metadata": {},
   "source": [
    "### Linear Regression\n"
   ]
  },
  {
   "cell_type": "markdown",
   "metadata": {},
   "source": [
    "First of all we must create model. We will test three type of models. Linear regression, Multilayer Neural Network with Backpropagation and Long Short-Term Memory Neural Network.\n",
    "Let's create [**LinearRegression()**](https://scikit-learn.org/stable/modules/generated/sklearn.linear_model.LinearRegression.html): \n"
   ]
  },
  {
   "cell_type": "code",
   "execution_count": null,
   "metadata": {},
   "outputs": [],
   "source": [
    "regressor = LinearRegression()"
   ]
  },
  {
   "cell_type": "markdown",
   "metadata": {},
   "source": [
    "After that model should be fitted on train DataSet. To do this we will use function fit()\n"
   ]
  },
  {
   "cell_type": "code",
   "execution_count": null,
   "metadata": {},
   "outputs": [],
   "source": [
    "regressor.fit(x_train, y_train)"
   ]
  },
  {
   "cell_type": "markdown",
   "metadata": {},
   "source": [
    "Then we can test it on test DataSet and use it for prognostication. \n"
   ]
  },
  {
   "cell_type": "code",
   "execution_count": null,
   "metadata": {},
   "outputs": [],
   "source": [
    "y_pred_test_ln = regressor.predict(x_test)\n",
    "y_pred_test_ln = scaler_y.inverse_transform(y_pred_test_ln).flatten()"
   ]
  },
  {
   "cell_type": "markdown",
   "metadata": {},
   "source": [
    "Let's analyse accuracy of results using by **[sklearn.metrics](https://scikit-learn.org/stable/modules/model_evaluation.html)**.\n"
   ]
  },
  {
   "cell_type": "code",
   "execution_count": null,
   "metadata": {},
   "outputs": [],
   "source": [
    "print(\"Correlation train\", regressor.score(x_train, y_train))\n",
    "print(\"Correlation test\", regressor.score(x_test, y_test))\n",
    "print('Mean Absolute Error:', metrics.mean_absolute_error(y_test, y_pred_test_ln))\n",
    "print('Mean Squared Error:', metrics.mean_squared_error(y_test, y_pred_test_ln))\n",
    "print('Root Mean Squared Error:', np.sqrt(metrics.mean_squared_error(y_test, y_pred_test_ln)))"
   ]
  },
  {
   "cell_type": "markdown",
   "metadata": {},
   "source": [
    "As you can see, result correlation on test DataSet is very bad. Therefore we should use another nonlinear model.\n"
   ]
  },
  {
   "cell_type": "markdown",
   "metadata": {},
   "source": [
    "### Back Propagation Neural Network\n"
   ]
  },
  {
   "cell_type": "markdown",
   "metadata": {},
   "source": [
    "The modern approach to the establishment of complex functional dependencies is the use of neural networks. A classical neural network is a [**multilayer neural network with back propagation**](https://en.wikipedia.org/wiki/Backpropagation).\n",
    "\n",
    "To do this we will use [**keras**](https://keras.io) framework.\n",
    "First of all we should create a Neural Network model as separate function.\n",
    "\n",
    "A neural network is a sequence of layers. The function [**Sequential()**](https://keras.io/guides/sequential_model/) is used to create a network.\n",
    "\n",
    "Let's create a network that consist from 2 hidden layers. Each of which consists of 100 neurons. [**keras.layers.Dense()**](https://keras.io/api/layers/core_layers/dense/).\n",
    "\n",
    "To avoid retraining problems, we will use additional layers [**keras.layers.Dropout()**](https://keras.io/api/layers/regularization_layers/dropout/)\n",
    "\n",
    "The output layer will consist of one neuron, since at the output we have only one value.\n",
    "\n",
    "Model should be compile for fitting and predicting: [**keras.Model.compile()**](https://keras.io/api/models/model_training_apis/)\n"
   ]
  },
  {
   "cell_type": "code",
   "execution_count": null,
   "metadata": {},
   "outputs": [],
   "source": [
    "def BP_model(X):\n",
    "    \"\"\"\n",
    "    Multilayer neural network with back propagation .\n",
    "    :param X: Input DataSet\n",
    "    :return: keras NN model\n",
    "    \"\"\"\n",
    "    # create model\n",
    "    model = Sequential() \n",
    "    model.add(Dense(100, input_dim=X.shape[1], kernel_initializer='normal', activation='relu'))\n",
    "    model.add(Dropout(0.2))\n",
    "    model.add(Dense(100, kernel_initializer='normal', activation='relu'))\n",
    "    model.add(Dropout(0.2))\n",
    "    model.add(Dense(1, kernel_initializer='normal'))\n",
    "    # Compile model\n",
    "    model.compile(loss='mean_squared_error', optimizer='adam')\n",
    "    return model"
   ]
  },
  {
   "cell_type": "markdown",
   "metadata": {},
   "source": [
    "Once the model function is built, it is necessary to create a neural network directly and specify the learning parameters: [**keras.wrappers.scikit_learn.KerasRegressor()**](https://keras.io/zh/scikit-learn-api/). Also we should sign number of fitting [**epoch and batch size**](https://machinelearningmastery.com/difference-between-a-batch-and-an-epoch/).\n"
   ]
  },
  {
   "cell_type": "code",
   "execution_count": null,
   "metadata": {},
   "outputs": [],
   "source": [
    "epochs = 1000\n",
    "batch_size=int(y_train.shape[0]*.1)\n",
    "estimator = KerasRegressor(build_fn=BP_model, X=x_train, epochs=epochs, batch_size=batch_size, verbose=1)"
   ]
  },
  {
   "cell_type": "markdown",
   "metadata": {},
   "source": [
    "Now, let’s train our model for **1000** epochs.\n",
    "It should be noted, that fitting process is very slow. To avoid overfitting and decrease time of fitting we will use **[EarlyStopping()](https://keras.io/api/callbacks/early_stopping/)** function, that will control value of  loss function. This funcion will stop fitting process when loss function stoped decreasing during 10 iteration. After that all weight parameters will restore on 10 iteration before.\n"
   ]
  },
  {
   "cell_type": "code",
   "execution_count": null,
   "metadata": {},
   "outputs": [],
   "source": [
    "es = EarlyStopping(monitor='val_loss', mode='auto', patience=10, verbose=1,  restore_best_weights=True)\n",
    "history=estimator.fit(x_train,y_train, validation_data=(x_test,y_test), callbacks=[es]) # Fitting model"
   ]
  },
  {
   "cell_type": "markdown",
   "metadata": {},
   "source": [
    "Let's show [**loss and validation loss dynamics**](https://machinelearningmastery.com/learning-curves-for-diagnosing-machine-learning-model-performance/).\n"
   ]
  },
  {
   "cell_type": "code",
   "execution_count": null,
   "metadata": {},
   "outputs": [],
   "source": [
    "plt.figure()\n",
    "plt.plot(history.history['loss'], label='train')\n",
    "plt.plot(history.history['val_loss'], label='test')\n",
    "plt.ylabel('loss')\n",
    "plt.xlabel('epoch')\n",
    "plt.legend()\n",
    "plt.show()"
   ]
  },
  {
   "cell_type": "markdown",
   "metadata": {},
   "source": [
    "As you can see Neural Network is good fitting and no owerfitting is observed.\n",
    "Let's calculate prediction of train (**res_train_ANN**) an test (**res_test_ANN**) sets.\n"
   ]
  },
  {
   "cell_type": "markdown",
   "metadata": {},
   "source": [
    "Let's calculate forrecast and make inverse normalization to real scale.\n"
   ]
  },
  {
   "cell_type": "code",
   "execution_count": null,
   "metadata": {},
   "outputs": [],
   "source": [
    "res_tr=estimator.predict(x_train)\n",
    "res_ts=estimator.predict(x_test)\n",
    "res_train_ANN=scaler_y.inverse_transform(res_tr.reshape(-1, 1)).flatten()\n",
    "res_test_ANN=scaler_y.inverse_transform(res_ts.reshape(-1, 1)).flatten()"
   ]
  },
  {
   "cell_type": "markdown",
   "metadata": {},
   "source": [
    "Let's compare accuracy of Linear Regression and Neural Network.\n"
   ]
  },
  {
   "cell_type": "code",
   "execution_count": null,
   "metadata": {},
   "outputs": [],
   "source": [
    "print(\"Correlation train\", np.corrcoef(res_train, res_train_ANN)[0,1])\n",
    "print(\"Correlation train\", np.corrcoef(res_test, res_test_ANN)[0,1])\n",
    "print('Mean Absolute Error:', metrics.mean_absolute_error(y_test, res_test_ANN))\n",
    "print('Mean Squared Error:', metrics.mean_squared_error(y_test, res_test_ANN))\n",
    "print('Root Mean Squared Error:', np.sqrt(metrics.mean_squared_error(y_test, res_test_ANN)))"
   ]
  },
  {
   "cell_type": "markdown",
   "metadata": {},
   "source": [
    "You can see, that we got little better results for Neural Network than for Linear Regression. Let's try to use reccurent neural network.\n"
   ]
  },
  {
   "cell_type": "markdown",
   "metadata": {},
   "source": [
    "### Long Short-Term Memory - LSTM\n"
   ]
  },
  {
   "cell_type": "markdown",
   "metadata": {},
   "source": [
    "Unlike standard feedforward neural networks, [**LSTM**](https://en.wikipedia.org/wiki/Long_short-term_memory) has feedback connections. It can not only process single data points, but also entire sequences of data (such as speech, video or time series). \n",
    "\n",
    "In the case of a time series, the neural network has one input and one output. However, the vector of time series values for the previous moments of time is fed to the input.\n"
   ]
  },
  {
   "cell_type": "markdown",
   "metadata": {},
   "source": [
    "<center>\n",
    "    <img src=\"https://cf-courses-data.s3.us.cloud-object-storage.appdomain.cloud/IBM-GPXX0JKFEN/RNN.png\" width=\"1000\" alt=\"cognitiveclass.ai logo\">\n",
    "</center>\n"
   ]
  },
  {
   "cell_type": "markdown",
   "metadata": {},
   "source": [
    "To do this we should transform input DataSets into 3D shape\n"
   ]
  },
  {
   "cell_type": "code",
   "execution_count": null,
   "metadata": {},
   "outputs": [],
   "source": [
    "train_x_LSTM = x_train.reshape((x_train.shape[0], 1, 4))\n",
    "test_x_LSTM = x_test.reshape((x_test.shape[0], 1, 4))"
   ]
  },
  {
   "cell_type": "markdown",
   "metadata": {},
   "source": [
    "Let's create LSTM Neural Network that consists from one [**LSTM**](https://keras.io/api/layers/recurrent_layers/lstm/) layer and one BP layer like in previous case.\n",
    "As you can see in this case our NN will consist 100 LSTM and 100 BP neurons.\n"
   ]
  },
  {
   "cell_type": "code",
   "execution_count": null,
   "metadata": {},
   "outputs": [],
   "source": [
    "batch_size=int(y_train.shape[0]*.1)\n",
    "model = Sequential()\n",
    "model.add(LSTM(100, input_shape=(train_x_LSTM.shape[1], train_x_LSTM.shape[2])))\n",
    "model.add(Dropout(0.2))\n",
    "model.add(Dense(100, kernel_initializer='normal', activation='relu'))\n",
    "model.add(Dropout(0.2))\n",
    "model.add(Dense(y_train.shape[1])) #activation='sigmoid'\n",
    "model.compile(loss='mean_squared_error', optimizer='adam')"
   ]
  },
  {
   "cell_type": "markdown",
   "metadata": {},
   "source": [
    "All subsequent steps of learning and predicting are similar to the previous neural network.\n"
   ]
  },
  {
   "cell_type": "code",
   "execution_count": null,
   "metadata": {},
   "outputs": [],
   "source": [
    "history = model.fit(train_x_LSTM, y_train, epochs=epochs, batch_size=batch_size, validation_data=(test_x_LSTM, y_test), verbose=1, shuffle=False, callbacks=[es])"
   ]
  },
  {
   "cell_type": "markdown",
   "metadata": {},
   "source": [
    "Let's plot dynamic of loss and val loss like previous case.\n"
   ]
  },
  {
   "cell_type": "code",
   "execution_count": null,
   "metadata": {},
   "outputs": [],
   "source": [
    "##YOUR CODE GOES HERE## "
   ]
  },
  {
   "cell_type": "markdown",
   "metadata": {},
   "source": [
    "<details><summary>Click <b>here</b> for the solution</summary> \n",
    "<code>\n",
    "plt.figure()\n",
    "plt.plot(history.history['loss'], label='train')\n",
    "plt.plot(history.history['val_loss'], label='test')\n",
    "plt.ylabel('loss')\n",
    "plt.xlabel('epoch')\n",
    "plt.legend()\n",
    "plt.show()\n",
    "</code>\n",
    "</details>\n"
   ]
  },
  {
   "cell_type": "markdown",
   "metadata": {},
   "source": [
    "Let's calculate forecast.\n"
   ]
  },
  {
   "cell_type": "code",
   "execution_count": null,
   "metadata": {},
   "outputs": [],
   "source": [
    "##YOUR CODE GOES HERE## "
   ]
  },
  {
   "cell_type": "markdown",
   "metadata": {},
   "source": [
    "<details><summary>Click <b>here</b> for the solution</summary> \n",
    "<code>\n",
    "res_tr_LSTM = model.predict(train_x_LSTM)\n",
    "res_ts_LSTM = model.predict(test_x_LSTM)\n",
    "res_train_LSTM=scaler_y.inverse_transform(res_tr_LSTM).flatten()\n",
    "res_test_LSTM=scaler_y.inverse_transform(res_ts_LSTM).flatten()\n",
    "</code>\n",
    "</details>\n"
   ]
  },
  {
   "cell_type": "markdown",
   "metadata": {},
   "source": [
    "And accuracy:\n"
   ]
  },
  {
   "cell_type": "code",
   "execution_count": null,
   "metadata": {},
   "outputs": [],
   "source": [
    "##YOUR CODE GOES HERE## "
   ]
  },
  {
   "cell_type": "markdown",
   "metadata": {},
   "source": [
    "<details><summary>Click <b>here</b> for the solution</summary> \n",
    "<code>\n",
    "print(\"Correlation train\", np.corrcoef(res_train, res_train_LSTM)[0,1])\n",
    "print(\"Correlation train\", np.corrcoef(res_test, res_test_LSTM)[0,1])\n",
    "print('Mean Absolute Error:', metrics.mean_absolute_error(y_test, res_test_LSTM))\n",
    "print('Mean Squared Error:', metrics.mean_squared_error(y_test, res_test_LSTM))\n",
    "print('Root Mean Squared Error:', np.sqrt(metrics.mean_squared_error(y_test, res_test_LSTM)))\n",
    "</code>\n",
    "</details>\n"
   ]
  },
  {
   "cell_type": "markdown",
   "metadata": {},
   "source": [
    "As you can see, the forecast results of the test data set are the same like the previous models. Let's visualize these 3 results:\n"
   ]
  },
  {
   "cell_type": "code",
   "execution_count": null,
   "metadata": {},
   "outputs": [],
   "source": [
    "res_pred_test_ln = pd.Series(y_pred_test_ln, name = 'Predicted test Linear Model')\n",
    "res_pred_test_ANN = pd.Series(res_test_ANN, name = 'Predicted test ANN')\n",
    "res_pred_test_LSTM = pd.Series(res_test_LSTM, name = 'Predicted test LSTM')\n",
    "\n",
    "df_2 = pd.DataFrame({'Actual test': res_test, 'Linear Model': res_pred_test_ln, 'ANN Model': res_pred_test_ANN,  'LSTM Model': res_pred_test_LSTM,})\n",
    "df_2.index = dataset.index[len(dataset)-len(res_test):]\n",
    "df_2.plot()\n",
    "plt.show()"
   ]
  },
  {
   "cell_type": "markdown",
   "metadata": {},
   "source": [
    "As you can see, all forecastig shows similar results. \n",
    "\n",
    "None of the models can predict large peaks. However, the positions of the peaks coincide for all models. That is, this approach allows you to make adequate models. The accuracy of the forecast depends on additional factors, which you will try to consider in the next section.\n"
   ]
  },
  {
   "cell_type": "markdown",
   "metadata": {},
   "source": [
    "## Model the effects of markdowns on holiday weeks\n"
   ]
  },
  {
   "cell_type": "markdown",
   "metadata": {},
   "source": [
    "### Preliminary analysis\n"
   ]
  },
  {
   "cell_type": "markdown",
   "metadata": {},
   "source": [
    "To take into account the impact of markdowns on sales on holidays, we must first build a model of sales forecasting depending on other input parameters.\n"
   ]
  },
  {
   "cell_type": "markdown",
   "metadata": {},
   "source": [
    "Let's set Date as index field in our DataSet\n"
   ]
  },
  {
   "cell_type": "code",
   "execution_count": null,
   "metadata": {},
   "outputs": [],
   "source": [
    "df_d = df_d.set_index('Date')\n",
    "df_d"
   ]
  },
  {
   "cell_type": "markdown",
   "metadata": {},
   "source": [
    "Next we must leave only those fields that affect on weekly sales and remove all others. In particular, fields such as 'Store', 'Dept', 'Type' are for information only. Field 'Size' remains a constant for a specific department, and therefore can not be used for modeling, even if it affects on sales.\n"
   ]
  },
  {
   "cell_type": "code",
   "execution_count": null,
   "metadata": {},
   "outputs": [],
   "source": [
    "df_d.columns"
   ]
  },
  {
   "cell_type": "code",
   "execution_count": null,
   "metadata": {},
   "outputs": [],
   "source": [
    "df_d = df_d[['Weekly_Sales', 'IsHoliday', 'Temperature',\n",
    "       'Fuel_Price', 'MarkDown1', 'MarkDown2', 'MarkDown3', 'MarkDown4',\n",
    "       'MarkDown5', 'CPI', 'Unemployment']]\n",
    "df_d"
   ]
  },
  {
   "cell_type": "markdown",
   "metadata": {},
   "source": [
    "Let's create a function that displays the correlation matrix in a form convenient for analysis:\n"
   ]
  },
  {
   "cell_type": "code",
   "execution_count": null,
   "metadata": {},
   "outputs": [],
   "source": [
    "def my_headmap(corr):\n",
    "    '''\n",
    "    Input:\n",
    "    corr: correlation matrix in DataFrame\n",
    "    '''\n",
    "    # Generate a mask for the upper triangle because it contains duplicate information\n",
    "    mask = np.triu(np.ones_like(corr, dtype=bool))\n",
    "\n",
    "    # Set up the matplotlib figure\n",
    "    f, ax = plt.subplots(figsize=(11, 9))\n",
    "\n",
    "    # Draw the heatmap with the mask and correct aspect ratio\n",
    "    sns.heatmap(corr, mask=mask, cmap='RdYlGn', vmin=-1., vmax=1., annot=True, center=0,\n",
    "                square=True, linewidths=.5, cbar_kws={\"shrink\": .5})  "
   ]
  },
  {
   "cell_type": "code",
   "execution_count": null,
   "metadata": {},
   "outputs": [],
   "source": [
    "my_headmap(df_d.corr())"
   ]
  },
  {
   "cell_type": "markdown",
   "metadata": {},
   "source": [
    "As you can see there are no any field that lineary impact on Weekly Sales.\n"
   ]
  },
  {
   "cell_type": "markdown",
   "metadata": {},
   "source": [
    "Let's create our DataSet. To do this join our historical 4 weeks sales data to this dataset\n"
   ]
  },
  {
   "cell_type": "code",
   "execution_count": null,
   "metadata": {},
   "outputs": [],
   "source": [
    "df_hp = df_d.join(dataset[dataset.columns[1:-1]])\n",
    "df_hp = df_hp.dropna()\n",
    "df_hp"
   ]
  },
  {
   "cell_type": "markdown",
   "metadata": {},
   "source": [
    "Let's create input and tarjet fields:\n"
   ]
  },
  {
   "cell_type": "code",
   "execution_count": null,
   "metadata": {},
   "outputs": [],
   "source": [
    "col = df_hp.columns\n",
    "X, Y = df_hp[col[1:]], df_hp[col[0]]\n",
    "print(\"Input: \", X.columns)\n",
    "print(\"Target:\", Y.name)"
   ]
  },
  {
   "cell_type": "markdown",
   "metadata": {},
   "source": [
    "Normalize them:\n"
   ]
  },
  {
   "cell_type": "code",
   "execution_count": null,
   "metadata": {},
   "outputs": [],
   "source": [
    "scaler_x = MinMaxScaler(feature_range=(0, 1))\n",
    "scaler_y = MinMaxScaler(feature_range=(0, 1))\n",
    "\n",
    "scaled_x = ##YOUR CODE GOES HERE## \n",
    "scaled_y = ##YOUR CODE GOES HERE## "
   ]
  },
  {
   "cell_type": "markdown",
   "metadata": {},
   "source": [
    "<details><summary>Click <b>here</b> for the solution</summary> \n",
    "<code>\n",
    "scaler_x = MinMaxScaler(feature_range=(0, 1))\n",
    "scaler_y = MinMaxScaler(feature_range=(0, 1))\n",
    "\n",
    "scaled_x = scaler_x.fit_transform(X)\n",
    "scaled_y = scaler_y.fit_transform(Y.values.reshape(-1, 1))\n",
    "</code>\n",
    "</details>\n"
   ]
  },
  {
   "cell_type": "markdown",
   "metadata": {},
   "source": [
    "And split them on train and test:\n"
   ]
  },
  {
   "cell_type": "code",
   "execution_count": null,
   "metadata": {},
   "outputs": [],
   "source": [
    "x_train, x_test, y_train, y_test = train_test_split(scaled_x, scaled_y, test_size=0.3, shuffle=False)"
   ]
  },
  {
   "cell_type": "markdown",
   "metadata": {},
   "source": [
    "Make inverse transform to get train and test Sets in real scale.\n"
   ]
  },
  {
   "cell_type": "code",
   "execution_count": null,
   "metadata": {},
   "outputs": [],
   "source": [
    "res_train = scaler_y.inverse_transform(y_train).flatten()\n",
    "res_test = ##YOUR CODE GOES HERE## "
   ]
  },
  {
   "cell_type": "markdown",
   "metadata": {},
   "source": [
    "<details><summary>Click <b>here</b> for the solution</summary> \n",
    "<code>\n",
    "res_train = scaler_y.inverse_transform(y_train).flatten()\n",
    "res_test = scaler_y.inverse_transform(y_test).flatten()\n",
    "</code>\n",
    "</details>\n"
   ]
  },
  {
   "cell_type": "markdown",
   "metadata": {},
   "source": [
    "### Linear model\n"
   ]
  },
  {
   "cell_type": "markdown",
   "metadata": {},
   "source": [
    "Let's create Linear model for comparison results:\n"
   ]
  },
  {
   "cell_type": "code",
   "execution_count": null,
   "metadata": {},
   "outputs": [],
   "source": [
    "regressor = LinearRegression()"
   ]
  },
  {
   "cell_type": "code",
   "execution_count": null,
   "metadata": {},
   "outputs": [],
   "source": [
    "regressor.fit(x_train, y_train)"
   ]
  },
  {
   "cell_type": "code",
   "execution_count": null,
   "metadata": {},
   "outputs": [],
   "source": [
    "y_pred_test_ln = regressor.predict(x_test)\n",
    "y_pred_test_ln = scaler_y.inverse_transform(y_pred_test_ln).flatten()"
   ]
  },
  {
   "cell_type": "code",
   "execution_count": null,
   "metadata": {},
   "outputs": [],
   "source": [
    "print(\"Correlation train\", regressor.score(x_train, y_train))\n",
    "print(\"Correlation test\", regressor.score(x_test, y_test))\n",
    "print('Mean Absolute Error:', metrics.mean_absolute_error(y_test, y_pred_test_ln))\n",
    "print('Mean Squared Error:', metrics.mean_squared_error(y_test, y_pred_test_ln))\n",
    "print('Root Mean Squared Error:', np.sqrt(metrics.mean_squared_error(y_test, y_pred_test_ln)))"
   ]
  },
  {
   "cell_type": "markdown",
   "metadata": {},
   "source": [
    "As you can see results are very bad too.\n"
   ]
  },
  {
   "cell_type": "markdown",
   "metadata": {},
   "source": [
    "### Back propagation Neural Network\n"
   ]
  },
  {
   "cell_type": "markdown",
   "metadata": {},
   "source": [
    "Let's use similar same Neural network like in previous task\n"
   ]
  },
  {
   "cell_type": "code",
   "execution_count": null,
   "metadata": {},
   "outputs": [],
   "source": [
    "def BP_model(X):\n",
    "    \"\"\"\n",
    "    Multilayer neural network with back propagation .\n",
    "    :param X: Input DataSet\n",
    "    :return: keras NN model\n",
    "    \"\"\"\n",
    "    # create model\n",
    "    model = Sequential() \n",
    "    model.add(Dense(100, input_dim=X.shape[1], kernel_initializer='normal', activation='relu'))\n",
    "    model.add(Dropout(0.2))\n",
    "    model.add(Dense(50, kernel_initializer='normal', activation='relu'))\n",
    "    model.add(Dropout(0.2))\n",
    "    model.add(Dense(1, kernel_initializer='normal'))\n",
    "    # Compile model\n",
    "    model.compile(loss='mean_squared_error', optimizer='adam')\n",
    "    return model"
   ]
  },
  {
   "cell_type": "code",
   "execution_count": null,
   "metadata": {},
   "outputs": [],
   "source": [
    "epochs = 1000\n",
    "batch_size=int(y_train.shape[0]*.1)\n",
    "estimator = KerasRegressor(build_fn=BP_model, X=x_train, epochs=epochs, batch_size=batch_size, verbose=0)"
   ]
  },
  {
   "cell_type": "markdown",
   "metadata": {},
   "source": [
    "We will use the same EarlyStopping function\n"
   ]
  },
  {
   "cell_type": "code",
   "execution_count": null,
   "metadata": {},
   "outputs": [],
   "source": [
    "es = EarlyStopping(monitor='val_loss', mode='auto', patience=10, verbose=1, restore_best_weights=True)\n",
    "history=estimator.fit(x_train,y_train, validation_data=(x_test,y_test), callbacks=[es]) "
   ]
  },
  {
   "cell_type": "markdown",
   "metadata": {},
   "source": [
    "Let's show [**loss and validation loss dynamics**](https://machinelearningmastery.com/learning-curves-for-diagnosing-machine-learning-model-performance/).\n"
   ]
  },
  {
   "cell_type": "code",
   "execution_count": null,
   "metadata": {},
   "outputs": [],
   "source": [
    "##YOUR CODE GOES HERE## "
   ]
  },
  {
   "cell_type": "markdown",
   "metadata": {},
   "source": [
    "<details><summary>Click <b>here</b> for the solution</summary> \n",
    "<code>\n",
    "plt.figure()\n",
    "plt.plot(history.history['loss'], label='train')\n",
    "plt.plot(history.history['val_loss'], label='test')\n",
    "plt.ylabel('loss')\n",
    "plt.xlabel('epoch')\n",
    "plt.legend()\n",
    "plt.show()\n",
    "</code>\n",
    "</details>\n"
   ]
  },
  {
   "cell_type": "markdown",
   "metadata": {},
   "source": [
    "As you can see Neural Network is good fitting and no owerfitting is observed.\n",
    "Let's calculate prodiction of train (**res_train_ANN**) an test (**res_test_ANN**) sets.\n"
   ]
  },
  {
   "cell_type": "markdown",
   "metadata": {},
   "source": [
    "Let's calculate forrecast and make inverse normalization to real scale.\n"
   ]
  },
  {
   "cell_type": "code",
   "execution_count": null,
   "metadata": {},
   "outputs": [],
   "source": [
    "res_tr=estimator.predict(x_train)\n",
    "res_ts=estimator.predict(x_test)\n",
    "res_train_ANN=scaler_y.inverse_transform(res_tr.reshape(-1, 1)).flatten()\n",
    "res_test_ANN=scaler_y.inverse_transform(res_ts.reshape(-1, 1)).flatten()"
   ]
  },
  {
   "cell_type": "markdown",
   "metadata": {},
   "source": [
    "Let's compare accuracy of Linear Regression and Neural Network.\n"
   ]
  },
  {
   "cell_type": "code",
   "execution_count": null,
   "metadata": {},
   "outputs": [],
   "source": [
    "##YOUR CODE GOES HERE## "
   ]
  },
  {
   "cell_type": "markdown",
   "metadata": {},
   "source": [
    "<details><summary>Click <b>here</b> for the solution</summary> \n",
    "<code>\n",
    "print(\"Correlation train\", np.corrcoef(res_train, res_train_ANN)[0,1])\n",
    "print(\"Correlation train\", np.corrcoef(res_test, res_test_ANN)[0,1])\n",
    "print('Mean Absolute Error:', metrics.mean_absolute_error(y_test, res_test_ANN))\n",
    "print('Mean Squared Error:', metrics.mean_squared_error(y_test, res_test_ANN))\n",
    "print('Root Mean Squared Error:', np.sqrt(metrics.mean_squared_error(y_test, res_test_ANN)))\n",
    "</code>\n",
    "</details>\n"
   ]
  },
  {
   "cell_type": "markdown",
   "metadata": {},
   "source": [
    "As you can see, the forecast results of the test data set are much better than the previous models. Let's visualize these 2 results:\n"
   ]
  },
  {
   "cell_type": "code",
   "execution_count": null,
   "metadata": {},
   "outputs": [],
   "source": [
    "res_pred_test_ln = pd.Series(y_pred_test_ln, name = 'Predicted test Linear Model')\n",
    "res_pred_test_ANN = pd.Series(res_test_ANN, name = 'Predicted test ANN')\n",
    "\n",
    "df_2 = pd.DataFrame({'Actual test': res_test, 'Linear Model': res_pred_test_ln, 'ANN Model': res_pred_test_ANN})\n",
    "df_2.index = df_d.index[len(df_d)-len(res_test):]\n",
    "df_2.plot()\n",
    "plt.show()"
   ]
  },
  {
   "cell_type": "markdown",
   "metadata": {},
   "source": [
    "As you can see from the plot, ANN shows better results. \n",
    "\n",
    "Let's calculate sensitivity of week sales on other factors.\n"
   ]
  },
  {
   "cell_type": "markdown",
   "metadata": {},
   "source": [
    "### Sensitivity analisys\n"
   ]
  },
  {
   "cell_type": "markdown",
   "metadata": {},
   "source": [
    "Let's create a function that allows you to analyze the sensitivity of any model to changes in one of the factors.\n"
   ]
  },
  {
   "cell_type": "code",
   "execution_count": null,
   "metadata": {},
   "outputs": [],
   "source": [
    "def my_sens(regressor, x, c, p):\n",
    "    '''\n",
    "    Input:\n",
    "    x: DataFrame of input Linear Regression\n",
    "    y: Series of output Linear Regression\n",
    "    p: Percentage of price change\n",
    "    Return:\n",
    "    Sensitivity of target\n",
    "    '''           \n",
    "    X = x[-1:].copy()\n",
    "    y_pred = regressor.predict(X)\n",
    "    X[0][c] = X[0][c]*(1+p)\n",
    "    y_pred_delta = regressor.predict(X)\n",
    "    return ((y_pred_delta - y_pred) / y_pred)[0]"
   ]
  },
  {
   "cell_type": "markdown",
   "metadata": {},
   "source": [
    "Let's calculate the sensitivity of weekly sales for the last day in the DataSet with an alternate increase in the input parameters by 10%\n"
   ]
  },
  {
   "cell_type": "code",
   "execution_count": null,
   "metadata": {},
   "outputs": [],
   "source": [
    "for i,c in enumerate(df_hp.columns[2:]):\n",
    "    print(\"Sensitivity of Week Sales on %s: %5.2f%%\" % (c, my_sens(estimator, x_test, i+1,  0.1) * 100))"
   ]
  },
  {
   "cell_type": "markdown",
   "metadata": {},
   "source": [
    "As can be seen from the results, this department is not sensitive to the impact of discounts on weekdays.\n"
   ]
  },
  {
   "cell_type": "markdown",
   "metadata": {},
   "source": [
    "Let's analyze the impact of markdowns during the holiday week. To do this, let's create an input matrix that contains only information about the holidays\n"
   ]
  },
  {
   "cell_type": "code",
   "execution_count": null,
   "metadata": {},
   "outputs": [],
   "source": [
    "x_test2 = [list(x) for x in x_test if x[0]>=0.99]\n",
    "x_test2 = np.array(x_test2)"
   ]
  },
  {
   "cell_type": "code",
   "execution_count": null,
   "metadata": {},
   "outputs": [],
   "source": [
    "for i,c in enumerate(df_hp.columns[2:]):\n",
    "    print(\"Sensitivity of Week Sales in Holiday on %s: %5.2f%%\" % (c, my_sens(estimator, x_test2, i+1,  0.1) * 100))"
   ]
  },
  {
   "cell_type": "markdown",
   "metadata": {},
   "source": [
    "As you can see, holiday week is not sensitive for markdowns too.\n"
   ]
  },
  {
   "cell_type": "markdown",
   "metadata": {},
   "source": [
    "## Recommendation for department\n"
   ]
  },
  {
   "cell_type": "markdown",
   "metadata": {},
   "source": [
    "As can be seen from the sensitivity analysis for this department, the most significant are the MarkDown5. Other types of discounts either do not affect or, conversely, can have the opposite effect (MarkDown1). **(Results may differ when re-fiting the neural network)**.\n",
    "\n",
    "In addition, it was shown that the lag delay is 4 weeks, which should be taken into account when planning marketing campaigns.\n",
    "\n",
    "Very interesting that  that sale of this department is very sensitive to temperature. With the increase of temperature - sales increase sharply both in the holiday and regular weeks. Therefore, the weather forecast should be taken into account in this case. \n",
    "\n",
    "It can also be seen that the sales intensity of this department is cyclical in 2 weeks, which is probably related to the type of goods. This means that raising sales will stimulate future sales.\n"
   ]
  },
  {
   "cell_type": "markdown",
   "metadata": {},
   "source": [
    "## Final Task\n"
   ]
  },
  {
   "cell_type": "markdown",
   "metadata": {},
   "source": [
    "In this lab, we investigated one department. Try to create a function and script that will allow you to perform a sensitivity analysis for any department of the specified store. This task can be splited on next subtasks:\n"
   ]
  },
  {
   "cell_type": "markdown",
   "metadata": {},
   "source": [
    "1. Create function that will analize sensitivity of week sales in holiday days for any department.\n",
    "2. Apply this function for one department on your choice\n",
    "3. Calculate sensitivity for any 10 departments, that have 143 rows in DataSet\n"
   ]
  },
  {
   "cell_type": "markdown",
   "metadata": {},
   "source": [
    "### SubTask 1. Sensitifity function\n"
   ]
  },
  {
   "cell_type": "code",
   "execution_count": null,
   "metadata": {},
   "outputs": [],
   "source": [
    "def sens_holiday(df, St, Dt):\n",
    "    # DataSet creation\n",
    "    ##YOUR CODE GOES HERE## \n",
    "    \n",
    "    # Week Sales Time Series creation\n",
    "    ##YOUR CODE GOES HERE## \n",
    "    \n",
    "    # Week Sales DataSet creation\n",
    "    ##YOUR CODE GOES HERE## \n",
    "    \n",
    "    # Spliting on Input and Target\n",
    "    ##YOUR CODE GOES HERE## \n",
    "    \n",
    "    # Normalization\n",
    "    ##YOUR CODE GOES HERE##     \n",
    "    \n",
    "    # Creation Train and Test DataSets\n",
    "    ##YOUR CODE GOES HERE## \n",
    "    \n",
    "    # Real scale target\n",
    "    ##YOUR CODE GOES HERE## \n",
    "    \n",
    "    # ANN Creation and fitting\n",
    "    ##YOUR CODE GOES HERE## \n",
    "    \n",
    "    # Creation Holidays DataSet\n",
    "    ##YOUR CODE GOES HERE## \n",
    "    \n",
    "    # Sensitivity calculation\n",
    "    ##YOUR CODE GOES HERE## \n",
    "    return res"
   ]
  },
  {
   "cell_type": "markdown",
   "metadata": {},
   "source": [
    "<details><summary>Click <b>here</b> for the solution DataSet creation</summary> \n",
    "<code>\n",
    "    df_d = df[(df['Store']==St) & (df['Dept']==Dt)]\n",
    "</code>\n",
    "</details>\n"
   ]
  },
  {
   "cell_type": "markdown",
   "metadata": {},
   "source": [
    "<details><summary>Click <b>here</b> for the solution Week Sales Time Series creation</summary> \n",
    "<code>\n",
    "    ts = df_d[['Date', 'Weekly_Sales']]\n",
    "    ts = ts.set_index('Date')\n",
    "    ts = ts['Weekly_Sales']\n",
    "</code>\n",
    "</details>\n"
   ]
  },
  {
   "cell_type": "markdown",
   "metadata": {},
   "source": [
    "<details><summary>Click <b>here</b> for the solution Week Sales DataSet creation</summary> \n",
    "<code>\n",
    "    ts_dataset = series_to_supervised(pd.DataFrame(ts), ts, 4)\n",
    "    df_d = df_d.set_index('Date')\n",
    "    df_d = df_d[['Weekly_Sales', 'IsHoliday', 'Temperature',\n",
    "       'Fuel_Price', 'MarkDown1', 'MarkDown2', 'MarkDown3', 'MarkDown4',\n",
    "       'MarkDown5', 'CPI', 'Unemployment']]\n",
    "    df_hp = df_d.join(ts_dataset[ts_dataset.columns[1:-1]])\n",
    "    df_hp = df_hp.dropna()\n",
    "</code>\n",
    "</details>\n"
   ]
  },
  {
   "cell_type": "markdown",
   "metadata": {},
   "source": [
    "<details><summary>Click <b>here</b> for the solution Spliting on Input and Target</summary> \n",
    "<code>\n",
    "    col = df_hp.columns\n",
    "    X, Y = df_hp[col[1:]], df_hp[col[0]]\n",
    "</code>\n",
    "</details>\n"
   ]
  },
  {
   "cell_type": "markdown",
   "metadata": {},
   "source": [
    "<details><summary>Click <b>here</b> for the solution Normalization</summary> \n",
    "<code>\n",
    "    scaler_x = MinMaxScaler(feature_range=(0, 1))\n",
    "    scaler_y = MinMaxScaler(feature_range=(0, 1))\n",
    "    scaled_x = scaler_x.fit_transform(X)\n",
    "    scaled_y = scaler_y.fit_transform(Y.values.reshape(-1, 1))   \n",
    "</code>\n",
    "</details>\n"
   ]
  },
  {
   "cell_type": "markdown",
   "metadata": {},
   "source": [
    "<details><summary>Click <b>here</b> for the solution Creation Train and Test DataSets</summary> \n",
    "<code>\n",
    "    x_train, x_test, y_train, y_test = train_test_split(scaled_x, scaled_y, test_size=0.3, shuffle=False)\n",
    "</code>\n",
    "</details>\n"
   ]
  },
  {
   "cell_type": "markdown",
   "metadata": {},
   "source": [
    "<details><summary>Click <b>here</b> for the solution Real scale target</summary> \n",
    "<code>\n",
    "    res_train = scaler_y.inverse_transform(y_train).flatten()\n",
    "    res_test = scaler_y.inverse_transform(y_test).flatten()\n",
    "</code>\n",
    "</details>\n"
   ]
  },
  {
   "cell_type": "markdown",
   "metadata": {},
   "source": [
    "<details><summary>Click <b>here</b> for the solution ANN Creation and fitting</summary> \n",
    "<code>\n",
    "    epochs = 1000\n",
    "    batch_size=int(y_train.shape[0]*.1)\n",
    "    estimator = KerasRegressor(build_fn=BP_model, X=x_train, epochs=epochs, batch_size=batch_size, verbose=0) \n",
    "    es = EarlyStopping(monitor='val_loss', mode='auto', patience=10, verbose=1, restore_best_weights=True)\n",
    "    history=estimator.fit(x_train,y_train, validation_data=(x_test,y_test), callbacks=[es]) \n",
    "</code>\n",
    "</details>\n"
   ]
  },
  {
   "cell_type": "markdown",
   "metadata": {},
   "source": [
    "<details><summary>Click <b>here</b> for the solution Creation Holidays DataSet</summary> \n",
    "<code>\n",
    "    x_test2 = [list(x) for x in x_test if x[0]>=0.99]\n",
    "    x_test2 = np.array(x_test2)\n",
    "</code>\n",
    "</details>\n"
   ]
  },
  {
   "cell_type": "markdown",
   "metadata": {},
   "source": [
    "<details><summary>Click <b>here</b> for the solution Sensitivity calculation</summary> \n",
    "<code>\n",
    "    res = {}\n",
    "    res['Store'] = [St]\n",
    "    res['Department'] = [Dt]\n",
    "    for i,c in enumerate(df_hp.columns[2:]):\n",
    "        res[c] = [\"{:.2f}%\".format(my_sens(estimator, x_test2, i+1,  0.1)*100)]  \n",
    "    res = pd.DataFrame(res)\n",
    "    res = res.set_index(['Store', 'Department'])\n",
    "</code>\n",
    "</details>\n"
   ]
  },
  {
   "cell_type": "markdown",
   "metadata": {},
   "source": [
    "### SubTask 2. Sensitivity of Department\n"
   ]
  },
  {
   "cell_type": "code",
   "execution_count": null,
   "metadata": {},
   "outputs": [],
   "source": [
    "sens_holiday(df, 1, 1)"
   ]
  },
  {
   "cell_type": "markdown",
   "metadata": {},
   "source": [
    "### SubTask 3. Sensitivity of 10 departments\n"
   ]
  },
  {
   "cell_type": "code",
   "execution_count": null,
   "metadata": {},
   "outputs": [],
   "source": [
    "# filter departments with 143 rows\n",
    "##YOUR CODE GOES HERE## "
   ]
  },
  {
   "cell_type": "markdown",
   "metadata": {},
   "source": [
    "<details><summary>Click <b>here</b> for the solution</summary> \n",
    "<code>\n",
    "depts = df[['Store', 'Dept']].value_counts()\n",
    "depts = depts[depts == 143]\n",
    "depts.name = 'rows'\n",
    "depts\n",
    "</code>\n",
    "</details>\n"
   ]
  },
  {
   "cell_type": "code",
   "execution_count": null,
   "metadata": {},
   "outputs": [],
   "source": [
    "# shuffle depts\n",
    "##YOUR CODE GOES HERE## "
   ]
  },
  {
   "cell_type": "markdown",
   "metadata": {},
   "source": [
    "<details><summary>Click <b>here</b> for the solution</summary> \n",
    "<code>\n",
    "depts = depts.reset_index()\n",
    "shuffled_dt = depts.reindex(np.random.permutation(depts.index))\n",
    "shuffled_dt\n",
    "</code>\n",
    "</details>\n"
   ]
  },
  {
   "cell_type": "code",
   "execution_count": null,
   "metadata": {},
   "outputs": [],
   "source": [
    "# sensitivity calculation \n",
    "##YOUR CODE GOES HERE## "
   ]
  },
  {
   "cell_type": "markdown",
   "metadata": {},
   "source": [
    "<details><summary>Click <b>here</b> for the solution</summary> \n",
    "<code>\n",
    "sens = pd.DataFrame()\n",
    "for v in shuffled_dt.values[:10]:\n",
    "    print('Store:', v[0], 'Department:', v[1])\n",
    "    sens = sens.append(sens_holiday(df, v[0], v[1]))    \n",
    "</code>\n",
    "</details>\n"
   ]
  },
  {
   "cell_type": "code",
   "execution_count": null,
   "metadata": {},
   "outputs": [],
   "source": [
    "sens"
   ]
  },
  {
   "cell_type": "markdown",
   "metadata": {},
   "source": [
    "## Conclusions\n"
   ]
  },
  {
   "cell_type": "markdown",
   "metadata": {},
   "source": [
    "This lab was learned how to analyze and forecast store sales.\n",
    "\n",
    "It was shown how to use autocorrelation analysis to find time lag delays. Studied how to transform a DataSet to take into account time delays in data.\n",
    "It was shown how to use linear models, backpropagation neural networks and recurrent neural networks to predict time series on the example of week sales of the store department.\n",
    "\n",
    "It was shown how to build combined DataSets containing both lag delays and store activity data.\n",
    "On the basis of neural network, the influence of markdowns in the store on sales both during the holiday and regular weeks was analyzed.  Proposed sales strategy for a specific department.\n",
    "\n",
    "At the end of the lab, the student should write a separate function that analyzes the impact of markdowns during the holiday weeks for the department of store, which is transmitted as an input parameter. Based on this function, students should analyze the activities of 10 arbitrary departments.\n"
   ]
  },
  {
   "cell_type": "markdown",
   "metadata": {},
   "source": [
    "## Authors\n"
   ]
  },
  {
   "cell_type": "markdown",
   "metadata": {},
   "source": [
    "Developer: [Yaroslav Vyklyuk, prof., PhD., DrSc](https://author.skills.network/instructors/yaroslav_vyklyuk_2)\n"
   ]
  },
  {
   "cell_type": "markdown",
   "metadata": {},
   "source": [
    " Copyright &copy; 2020 IBM Corporation. This notebook and its source code are released under the terms of the [MIT License](https://cognitiveclass.ai/mit-license/).\n"
   ]
  }
 ],
 "metadata": {
  "kernelspec": {
   "display_name": "Python",
   "language": "python",
   "name": "conda-env-python-py"
  },
  "language_info": {
   "codemirror_mode": {
    "name": "ipython",
    "version": 3
   },
   "file_extension": ".py",
   "mimetype": "text/x-python",
   "name": "python",
   "nbconvert_exporter": "python",
   "pygments_lexer": "ipython3",
   "version": "3.7.12"
  }
 },
 "nbformat": 4,
 "nbformat_minor": 4
}
